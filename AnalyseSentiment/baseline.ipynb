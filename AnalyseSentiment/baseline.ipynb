{
 "cells": [
  {
   "cell_type": "markdown",
   "source": [
    "# Challenge: Analyse de sentiment sur le dataset IMDB\n",
    "Bienvenue au premier challenge de NLP. Nous allons travailler sur le dataset IMDB, un dataset de 50 000 critiques de films étiquetées comme positives ou négatives. Le but est de construire un modèle qui prédit si une critique est positive ou négative.\n",
    "\n",
    "## Téléchargement des données\n",
    "Pour télécharger le dataset, vous allez devoir installer les libraries `torchtext` et `portalocker`. Si vous êtes sur colab, vous pouvez ajouter une cellule de code et taper `!pip install torchtext portalocker`. Si vous êtes sur votre machine, vous pouvez taper `pip install torchtext portalocker` dans votre terminal."
   ],
   "metadata": {
    "collapsed": false
   }
  },
  {
   "cell_type": "code",
   "execution_count": 17,
   "outputs": [],
   "source": [
    "# download imdb dataset\n",
    "from torchtext import datasets\n",
    "\n",
    "train_dataset, test_dataset = datasets.IMDB(root=\"./\")"
   ],
   "metadata": {
    "collapsed": false
   }
  },
  {
   "cell_type": "markdown",
   "source": [
    "## Affichage du dataset"
   ],
   "metadata": {
    "collapsed": false
   }
  },
  {
   "cell_type": "code",
   "execution_count": 19,
   "outputs": [
    {
     "name": "stdout",
     "output_type": "stream",
     "text": [
      "25000\n"
     ]
    }
   ],
   "source": [
    "for x in train_dataset:\n",
    "    print(x.text)\n",
    "    print(x.label)\n",
    "    break"
   ],
   "metadata": {
    "collapsed": false
   }
  },
  {
   "cell_type": "markdown",
   "source": [
    "## A vous de jouer\n",
    "Vous allez devoir construire un modèle qui prédit si une critique est positive ou négative. Vous pouvez vous inspirer du TP sur l'intro à NLP.\n",
    "Vous devez soumettre un fichier .npy qui contient l'array numpy des prédictions sur le dataset de test (`test_dataset`). Vous pouvez utiliser `np.save` pour sauvegarder votre array.\n",
    "L'array doit être de taille `(25000,)` (ça correspond à la taille du ` test_dataset`) et contenir des 0 et des 1. Par exemple\n",
    "```python\n",
    "pred = [0, 1, 1, 0, 1, 0, ..., 0, 1, 1, 1]\n",
    "```\n",
    "\n",
    "Vous ne devez pas utiliser les labels du dataset de test pour entraîner votre modèle. Vous ne pouvez utiliser que le dataset d'entraînement (`train_dataset`).\n",
    "Soumettre le fichier de prédiction sur le site: https://sharing.cs-campus.fr/compete/100"
   ],
   "metadata": {
    "collapsed": false
   }
  },
  {
   "cell_type": "code",
   "execution_count": null,
   "outputs": [],
   "source": [],
   "metadata": {
    "collapsed": false
   }
  }
 ],
 "metadata": {
  "kernelspec": {
   "display_name": "Python 3",
   "language": "python",
   "name": "python3"
  },
  "language_info": {
   "codemirror_mode": {
    "name": "ipython",
    "version": 2
   },
   "file_extension": ".py",
   "mimetype": "text/x-python",
   "name": "python",
   "nbconvert_exporter": "python",
   "pygments_lexer": "ipython2",
   "version": "2.7.6"
  }
 },
 "nbformat": 4,
 "nbformat_minor": 0
}
