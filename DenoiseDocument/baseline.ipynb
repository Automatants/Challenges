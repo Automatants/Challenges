{
 "cells": [
  {
   "cell_type": "markdown",
   "source": [
    "## Import des libraries"
   ],
   "metadata": {
    "collapsed": false
   }
  },
  {
   "cell_type": "code",
   "execution_count": 1,
   "outputs": [],
   "source": [
    "import numpy as np\n",
    "import torch\n",
    "import torch.nn as nn\n",
    "import gdown\n",
    "import os"
   ],
   "metadata": {
    "collapsed": false
   }
  },
  {
   "cell_type": "markdown",
   "source": [
    "## Téléchargement du dataset"
   ],
   "metadata": {
    "collapsed": false
   }
  },
  {
   "cell_type": "code",
   "execution_count": null,
   "outputs": [],
   "source": [
    "#Téléchargement du dataset\n",
    "url = 'https://drive.google.com/uc?export=download&id=1iqd7FtqMGstCm6uPZoFbMBNB24_Jlerr'\n",
    "output = 'dataset.zip'\n",
    "if not os.path.exists(output):\n",
    "\tgdown.download(url, output, quiet=False)\n",
    "\n",
    "#Dézippage du dataset\n",
    "\n",
    "def unzip(zip_file, dest_dir):\n",
    "\timport zipfile\n",
    "\twith zipfile.ZipFile(zip_file, 'r') as zip_ref:\n",
    "\t\tzip_ref.extractall(dest_dir)\n",
    "\n",
    "unzip('dataset.zip', './')"
   ],
   "metadata": {
    "collapsed": false
   }
  },
  {
   "cell_type": "markdown",
   "source": [
    "## Load le dataset"
   ],
   "metadata": {
    "collapsed": false
   }
  },
  {
   "cell_type": "code",
   "execution_count": null,
   "outputs": [],
   "source": [
    "X_train = np.load('X_train.npy')\n",
    "X_clean_train = np.load('X_clean_train.npy')\n",
    "X_test = np.load('X_test.npy')\n",
    "\n",
    "print(X_train.shape)\n",
    "print(X_clean_train.shape)\n",
    "print(X_test.shape)"
   ],
   "metadata": {
    "collapsed": false
   }
  },
  {
   "cell_type": "markdown",
   "source": [
    "## Affichage des données"
   ],
   "metadata": {
    "collapsed": false
   }
  },
  {
   "cell_type": "code",
   "execution_count": null,
   "outputs": [],
   "source": [
    "import matplotlib.pyplot as plt\n",
    "\n",
    "# first row show 5 noised images, second row show 5 clean images\n",
    "for i in range(5):\n",
    "\tplt.subplot(2, 5, i + 1)\n",
    "\tplt.imshow(X_train[i])\n",
    "\tplt.title(\"Noised\")\n",
    "\tplt.axis('off')\n",
    "\n",
    "\tplt.subplot(2, 5, i + 6)\n",
    "\tplt.imshow(X_clean_train[i])\n",
    "\tplt.title(\"Clean\")\n",
    "\tplt.axis('off')\n",
    "\n",
    "plt.show()"
   ],
   "metadata": {
    "collapsed": false
   }
  },
  {
   "cell_type": "markdown",
   "source": [
    "## Batch les données"
   ],
   "metadata": {
    "collapsed": false
   }
  },
  {
   "cell_type": "code",
   "execution_count": null,
   "outputs": [],
   "source": [
    "batch_size = 20\n",
    "width = X_train.shape[1]\n",
    "height = X_train.shape[2]\n",
    "X_train_reshaped = X_train.reshape(-1, batch_size, width, height)\n",
    "X_clean_train_reshaped = X_clean_train.reshape(-1, batch_size, width, height)\n",
    "\n",
    "print(X_train_reshaped.shape)\n",
    "print(X_clean_train_reshaped.shape)"
   ],
   "metadata": {
    "collapsed": false
   }
  },
  {
   "cell_type": "markdown",
   "source": [
    "## Ajouter la dimension de couleur\n",
    "Pour l'instant, nos images sont de shape (width, height). Les couches de convolution veulent des images de shape (color, width, height). On va donc ajouter une dimension de couleur à nos images."
   ],
   "metadata": {
    "collapsed": false
   }
  },
  {
   "cell_type": "code",
   "execution_count": null,
   "outputs": [],
   "source": [
    "X_train_expanded = np.expand_dims(X_train_reshaped, axis=2)\n",
    "X_clean_train_expanded = np.expand_dims(X_clean_train_reshaped, axis=2)\n",
    "\n",
    "print(X_train_expanded.shape)\n",
    "print(X_clean_train_expanded.shape)"
   ],
   "metadata": {
    "collapsed": false
   }
  },
  {
   "cell_type": "markdown",
   "source": [
    "## Convertir les données en torch.tensor"
   ],
   "metadata": {
    "collapsed": false
   }
  },
  {
   "cell_type": "code",
   "execution_count": null,
   "outputs": [],
   "source": [
    "X_train_torch = torch.from_numpy(X_train_expanded).float()\n",
    "X_clean_train_torch = torch.from_numpy(X_clean_train_expanded).float()"
   ],
   "metadata": {
    "collapsed": false
   }
  },
  {
   "cell_type": "markdown",
   "source": [
    "## Créer le modèle"
   ],
   "metadata": {
    "collapsed": false
   }
  },
  {
   "cell_type": "code",
   "execution_count": null,
   "outputs": [],
   "source": [
    "class Baseline(nn.Module):\n",
    "\tdef __init__(self):\n",
    "\t\tsuper().__init__()\n",
    "\t\tself.conv = nn.Conv2d(in_channels=1, out_channels=1, kernel_size=3, padding=1)\n",
    "\n",
    "\tdef forward(self, x):\n",
    "\t\tx = self.conv(x)\n",
    "\t\treturn x\n"
   ],
   "metadata": {
    "collapsed": false
   }
  },
  {
   "cell_type": "markdown",
   "source": [
    "## Boucle d'entraînement"
   ],
   "metadata": {
    "collapsed": false
   }
  },
  {
   "cell_type": "code",
   "execution_count": null,
   "outputs": [],
   "source": [
    "loss_fn = nn.MSELoss()\n",
    "model = Baseline()\n",
    "optimizer = torch.optim.Adam(model.parameters(), lr=0.001)\n",
    "\n",
    "for epoch in range(10):\n",
    "\tfor i in range(len(X_train_torch)):\n",
    "\t\toptimizer.zero_grad()\n",
    "\t\tX = X_train_torch[i]\n",
    "\t\tX_clean = X_clean_train_torch[i]\n",
    "\t\tX_pred = model(X)\n",
    "\t\tloss = loss_fn(X_pred, X_clean)\n",
    "\t\tloss.backward()\n",
    "\t\toptimizer.step()\n",
    "\t\tif i % 100 == 0:\n",
    "\t\t\tprint(f\"Epoch {epoch}, iter {i}, loss {loss.item():.2f}\")"
   ],
   "metadata": {
    "collapsed": false
   }
  },
  {
   "cell_type": "markdown",
   "source": [
    "## Prédiction"
   ],
   "metadata": {
    "collapsed": false
   }
  },
  {
   "cell_type": "code",
   "execution_count": null,
   "outputs": [],
   "source": [
    "batch_size_test = 14\n",
    "X_test = X_test.reshape(-1, batch_size_test, width, height)\n",
    "X_test_expanded = np.expand_dims(X_test, axis=2)\n",
    "X_test_torch = torch.from_numpy(X_test_expanded).float()\n",
    "\n",
    "predictions = []\n",
    "for i in range(len(X_test_torch)):\n",
    "\tX = X_test_torch[i]\n",
    "\tX_pred = model(X)\n",
    "\tpredictions.append(X_pred.detach().numpy())\n",
    "\n",
    "predictions = np.array(predictions)\n",
    "predictions = predictions.reshape(-1, width, height)\n",
    "\n",
    "np.save('predictions.npy', predictions)"
   ],
   "metadata": {
    "collapsed": false
   }
  },
  {
   "cell_type": "markdown",
   "source": [
    "## Visualiser les résultats"
   ],
   "metadata": {
    "collapsed": false
   }
  },
  {
   "cell_type": "code",
   "execution_count": null,
   "outputs": [],
   "source": [
    "for i in range(5):\n",
    "\tplt.subplot(2, 5, i + 6)\n",
    "\tplt.imshow(predictions[i])\n",
    "\tplt.title(\"Clean\")\n",
    "\tplt.axis('off')"
   ],
   "metadata": {
    "collapsed": false
   }
  }
 ],
 "metadata": {
  "kernelspec": {
   "display_name": "Python 3",
   "language": "python",
   "name": "python3"
  },
  "language_info": {
   "codemirror_mode": {
    "name": "ipython",
    "version": 2
   },
   "file_extension": ".py",
   "mimetype": "text/x-python",
   "name": "python",
   "nbconvert_exporter": "python",
   "pygments_lexer": "ipython2",
   "version": "2.7.6"
  }
 },
 "nbformat": 4,
 "nbformat_minor": 0
}
